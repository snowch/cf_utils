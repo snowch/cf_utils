{
 "cells": [
  {
   "cell_type": "markdown",
   "metadata": {},
   "source": [
    "## Overview\n",
    "\n",
    "This notebook:\n",
    "\n",
    "- creates a MessageHub instance in Bluemix\n",
    "- produces some messages \n",
    "- consumes those messages\n",
    "- tears down the MessageHub instance\n",
    "\n",
    "Note that this demo does not use spark python - it just uses vanilla python."
   ]
  },
  {
   "cell_type": "markdown",
   "metadata": {},
   "source": [
    "Enter your bluemix ID"
   ]
  },
  {
   "cell_type": "code",
   "execution_count": 3,
   "metadata": {
    "collapsed": false
   },
   "outputs": [
    {
     "name": "stdout",
     "output_type": "stream",
     "text": [
      "IBM ID: chris.snow@uk.ibm.com\n"
     ]
    }
   ],
   "source": [
    "from getpass import getpass\n",
    "ibm_id = raw_input(\"IBM ID: \")"
   ]
  },
  {
   "cell_type": "markdown",
   "metadata": {},
   "source": [
    "Enter your bluemix ID password"
   ]
  },
  {
   "cell_type": "code",
   "execution_count": 4,
   "metadata": {
    "collapsed": false
   },
   "outputs": [
    {
     "name": "stdout",
     "output_type": "stream",
     "text": [
      "Password: ········\n"
     ]
    }
   ],
   "source": [
    "from getpass import getpass\n",
    "ibm_id_password = getpass(\"Password: \")"
   ]
  },
  {
   "cell_type": "markdown",
   "metadata": {},
   "source": [
    "Setup some variables that this notebook will use"
   ]
  },
  {
   "cell_type": "code",
   "execution_count": 5,
   "metadata": {
    "collapsed": true
   },
   "outputs": [],
   "source": [
    "# change this to point to your bluemix organization name\n",
    "bluemix_organization_name = 'chris.snow@uk.ibm.com'\n",
    "\n",
    "# change this to point to your bluemix space name\n",
    "bluemix_space_name = 'dev'\n",
    "\n",
    "# You may need to change the target_endpoint to:\n",
    "#\n",
    "#   https://api.ng.bluemix.net     - for the US South Region\n",
    "#   https://api.eu-gb.bluemix.net  - for the UK\n",
    "#   https://api.au-syd.bluemix.net - for Austrailia\n",
    "target_endpoint = 'https://api.ng.bluemix.net'\n",
    "\n",
    "# This is the name of the Message Hub service instance that will\n",
    "# be created for you in Bluemix\n",
    "messagehub_instance_name = 'my_messagehub'\n",
    "\n",
    "# This is the name of a topic that will get created for you\n",
    "messagehub_topic_name = 'my_topic'\n",
    "\n",
    "# Do you want to delete any existing MessageHub instance with\n",
    "# messagehub_instance_name for before creating a new one?\n",
    "delete_messagehub_instance = True\n",
    "\n",
    "# This is the guid of the Message Hub service plan. I found\n",
    "# this using:\n",
    "#\n",
    "#   cf = CloudFoundryUtil(target_endpoint, ibm_id, ibm_id_password)\n",
    "#   print(cf.search_plans('message hub'))\n",
    "mh_service_plan_guid = 'fe959ac5-aa47-43a6-9c58-6fc265ee9b0e'"
   ]
  },
  {
   "cell_type": "markdown",
   "metadata": {},
   "source": [
    "Install a python utility script from github for interacting with cloud foundry via the API"
   ]
  },
  {
   "cell_type": "code",
   "execution_count": 8,
   "metadata": {
    "collapsed": false
   },
   "outputs": [],
   "source": [
    "!pip install --user --upgrade protobuf\n",
    "!pip install --user --upgrade --quiet git+https://github.com/snowch/cf_utils"
   ]
  },
  {
   "cell_type": "markdown",
   "metadata": {},
   "source": [
    "Create a python object for interacting with cloud foundry"
   ]
  },
  {
   "cell_type": "code",
   "execution_count": 9,
   "metadata": {
    "collapsed": false
   },
   "outputs": [],
   "source": [
    "from cf_utils import cf_utils\n",
    "cf = cf_utils.CloudFoundryUtil(target_endpoint, ibm_id, ibm_id_password)"
   ]
  },
  {
   "cell_type": "markdown",
   "metadata": {},
   "source": [
    "Remove any MessageHub instances with the messagehub_instance_name"
   ]
  },
  {
   "cell_type": "code",
   "execution_count": 10,
   "metadata": {
    "collapsed": false
   },
   "outputs": [],
   "source": [
    "if delete_messagehub_instance:\n",
    "    cf.delete_service(service_instance_name=messagehub_instance_name, force=True)"
   ]
  },
  {
   "cell_type": "markdown",
   "metadata": {},
   "source": [
    "Create a MessageHub service instance"
   ]
  },
  {
   "cell_type": "code",
   "execution_count": 11,
   "metadata": {
    "collapsed": false
   },
   "outputs": [],
   "source": [
    "cf.create_service_instance(\n",
    "    bluemix_organization_name, \n",
    "    bluemix_space_name,\n",
    "    mh_service_plan_guid,\n",
    "    messagehub_instance_name,\n",
    ")"
   ]
  },
  {
   "cell_type": "markdown",
   "metadata": {},
   "source": [
    "Extract some variables that we will need to work with the MessageHub instance"
   ]
  },
  {
   "cell_type": "code",
   "execution_count": 12,
   "metadata": {
    "collapsed": false
   },
   "outputs": [],
   "source": [
    "bootstrap_servers = cf.get_service_credential(messagehub_instance_name, 'kafka_brokers_sasl')\n",
    "# print(bootstrap_servers)\n",
    "\n",
    "sasl_username = cf.get_service_credential(messagehub_instance_name, 'user')\n",
    "# print(sasl_username)\n",
    "\n",
    "sasl_password = cf.get_service_credential(messagehub_instance_name, 'password')\n",
    "# print(sasl_password)\n",
    "\n",
    "api_key = cf.get_service_credential(messagehub_instance_name, 'api_key')\n",
    "# print(api_key)\n",
    "\n",
    "kafka_admin_url = cf.get_service_credential(messagehub_instance_name, 'kafka_admin_url')\n",
    "# print(kafka_admin_url)"
   ]
  },
  {
   "cell_type": "markdown",
   "metadata": {},
   "source": [
    "Create a topic in the MessageHub instance"
   ]
  },
  {
   "cell_type": "code",
   "execution_count": 20,
   "metadata": {
    "collapsed": false
   },
   "outputs": [],
   "source": [
    "import requests\n",
    "import json\n",
    "\n",
    "data = { 'name' : messagehub_topic_name }\n",
    "headers = {\n",
    "    'content-type': 'application/json',\n",
    "    'X-Auth-Token' : api_key \n",
    "}\n",
    "\n",
    "response = requests.post(\n",
    "                kafka_admin_url + '/admin/topics', \n",
    "                headers = headers,\n",
    "                data = json.dumps(data)\n",
    "            )"
   ]
  },
  {
   "cell_type": "markdown",
   "metadata": {},
   "source": [
    "Verify the topic was created ok"
   ]
  },
  {
   "cell_type": "code",
   "execution_count": 14,
   "metadata": {
    "collapsed": false
   },
   "outputs": [
    {
     "name": "stdout",
     "output_type": "stream",
     "text": [
      "[{\"name\":\"my_topic\",\"partitions\":1,\"retentionMs\":\"86400000\",\"markedForDeletion\":false}]\n"
     ]
    }
   ],
   "source": [
    "import requests\n",
    "import json\n",
    "\n",
    "data = { 'name' : messagehub_topic_name }\n",
    "headers = {\n",
    "    'content-type': 'application/json',\n",
    "    'X-Auth-Token' : api_key \n",
    "}\n",
    "\n",
    "response = requests.get(\n",
    "                kafka_admin_url + '/admin/topics', \n",
    "                headers = headers,\n",
    "                data = json.dumps(data)\n",
    "            )\n",
    "print (response.text)"
   ]
  },
  {
   "cell_type": "markdown",
   "metadata": {},
   "source": [
    "Install a python kafka client"
   ]
  },
  {
   "cell_type": "code",
   "execution_count": 15,
   "metadata": {
    "collapsed": false
   },
   "outputs": [
    {
     "name": "stdout",
     "output_type": "stream",
     "text": [
      "Requirement already satisfied (use --upgrade to upgrade): kafka-python in /gpfs/global_fs01/sym_shared/YPProdSpark/user/sdd1-7e9fd7607be53e-39ca506ba762/.local/lib/python2.7/site-packages\r\n"
     ]
    }
   ],
   "source": [
    "!pip install --user --quiet kafka-python"
   ]
  },
  {
   "cell_type": "markdown",
   "metadata": {},
   "source": [
    "Create a kafka producer and send some messages"
   ]
  },
  {
   "cell_type": "code",
   "execution_count": 16,
   "metadata": {
    "collapsed": false
   },
   "outputs": [],
   "source": [
    "from kafka import KafkaProducer\n",
    "from kafka.errors import KafkaError\n",
    "import ssl\n",
    "\n",
    "sasl_plain_username = sasl_username\n",
    "sasl_plain_password = sasl_password \n",
    "\n",
    "sasl_mechanism = 'PLAIN'\n",
    "security_protocol = 'SASL_SSL'\n",
    "\n",
    "# Create a new context using system defaults, disable all but TLS1.2\n",
    "context = ssl.create_default_context()\n",
    "context.options &= ssl.OP_NO_TLSv1\n",
    "context.options &= ssl.OP_NO_TLSv1_1\n",
    "\n",
    "producer = KafkaProducer(bootstrap_servers = bootstrap_servers,\n",
    "                         sasl_plain_username = sasl_plain_username,\n",
    "                         sasl_plain_password = sasl_plain_password,\n",
    "                         security_protocol = security_protocol,\n",
    "                         ssl_context = context,\n",
    "                         sasl_mechanism = sasl_mechanism,\n",
    "                         api_version=(0,10))\n",
    "\n",
    "producer.send(messagehub_topic_name, b'some_raw_bytes_1')\n",
    "producer.send(messagehub_topic_name, b'some_raw_bytes_2')\n",
    "\n",
    "producer.flush()"
   ]
  },
  {
   "cell_type": "markdown",
   "metadata": {},
   "source": [
    "Create a kafka consumer to consume the messages"
   ]
  },
  {
   "cell_type": "code",
   "execution_count": 17,
   "metadata": {
    "collapsed": false
   },
   "outputs": [
    {
     "name": "stdout",
     "output_type": "stream",
     "text": [
      "my_topic:0:0: key=None value=some_raw_bytes_1\n",
      "my_topic:0:1: key=None value=some_raw_bytes_2\n"
     ]
    }
   ],
   "source": [
    "from kafka import KafkaConsumer\n",
    "from kafka.errors import KafkaError\n",
    "import ssl\n",
    "\n",
    "sasl_plain_username = sasl_username\n",
    "sasl_plain_password = sasl_password \n",
    "\n",
    "sasl_mechanism = 'PLAIN'\n",
    "security_protocol = 'SASL_SSL'\n",
    "\n",
    "# Create a new context using system defaults, disable all but TLS1.2\n",
    "context = ssl.create_default_context()\n",
    "context.options &= ssl.OP_NO_TLSv1\n",
    "context.options &= ssl.OP_NO_TLSv1_1\n",
    "\n",
    "consumer = KafkaConsumer(messagehub_topic_name,\n",
    "                         bootstrap_servers = bootstrap_servers,\n",
    "                         sasl_plain_username = sasl_plain_username,\n",
    "                         sasl_plain_password = sasl_plain_password,\n",
    "                         security_protocol = security_protocol,\n",
    "                         ssl_context = context,\n",
    "                         sasl_mechanism = sasl_mechanism,\n",
    "                         api_version=(0,10),\n",
    "                         consumer_timeout_ms=60000,\n",
    "                         auto_offset_reset='earliest')\n",
    "\n",
    "for message in consumer:\n",
    "    # message value and key are raw bytes -- decode if necessary!\n",
    "    # e.g., for unicode: `message.value.decode('utf-8')`\n",
    "    print (\"%s:%d:%d: key=%s value=%s\" % (message.topic, message.partition,\n",
    "                                          message.offset, message.key,\n",
    "                                          message.value))\n"
   ]
  },
  {
   "cell_type": "markdown",
   "metadata": {},
   "source": [
    "Remove the MessageHub instance from Bluemix"
   ]
  },
  {
   "cell_type": "code",
   "execution_count": null,
   "metadata": {
    "collapsed": false
   },
   "outputs": [],
   "source": [
    "if delete_messagehub_instance:\n",
    "    cf.delete_service(service_instance_name=messagehub_instance_name, force=True)"
   ]
  },
  {
   "cell_type": "code",
   "execution_count": null,
   "metadata": {
    "collapsed": true
   },
   "outputs": [],
   "source": []
  }
 ],
 "metadata": {
  "kernelspec": {
   "display_name": "Python 2 with Spark 1.6",
   "language": "python",
   "name": "python2"
  },
  "language_info": {
   "codemirror_mode": {
    "name": "ipython",
    "version": 2
   },
   "file_extension": ".py",
   "mimetype": "text/x-python",
   "name": "python",
   "nbconvert_exporter": "python",
   "pygments_lexer": "ipython2",
   "version": "2.7.11"
  }
 },
 "nbformat": 4,
 "nbformat_minor": 0
}
